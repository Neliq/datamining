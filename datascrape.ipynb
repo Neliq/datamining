{
 "cells": [
  {
   "cell_type": "markdown",
   "metadata": {},
   "source": [
    "selenium - biblioteka do scrapowania danych\n",
    "re - biblioteka do analizy i modyfikowania ciągów znaków"
   ]
  },
  {
   "cell_type": "code",
   "execution_count": 22,
   "metadata": {},
   "outputs": [],
   "source": [
    "from selenium import webdriver\n",
    "from selenium.webdriver.common.by import By\n",
    "import pandas as pd\n",
    "import re"
   ]
  },
  {
   "cell_type": "markdown",
   "metadata": {},
   "source": [
    "Silnik chromium do uruchomienia okna scrapowania strony"
   ]
  },
  {
   "cell_type": "code",
   "execution_count": 23,
   "metadata": {},
   "outputs": [],
   "source": [
    "driver = webdriver.Chrome()\n",
    "driver.get(\"https://krecik.sklep.pl\")\n",
    "driver.set_window_size(1920, 1080)"
   ]
  },
  {
   "cell_type": "markdown",
   "metadata": {},
   "source": [
    "Scrapowanie odnośników do każdej oferty zestawów klocków LEGO\n",
    "Selenium przechodzi po każdej stronie a następnie dodaje do listy linki pobrane z każdego kafelka ofert znajdujących się na danym page'u"
   ]
  },
  {
   "cell_type": "code",
   "execution_count": 24,
   "metadata": {},
   "outputs": [],
   "source": [
    "products = []\n",
    "for i in range(1,12):\n",
    "    try:\n",
    "        driver.get(\"https://krecik.sklep.pl/pl/c/LEGO-rok-produkcji/51/\"+str(i))\n",
    "        for j in range(1,51):\n",
    "            products.append(driver.find_element(By.XPATH, \"/html/body/div[2]/div[5]/div/div/div[2]/div/div[2]/div[1]/div[\"+str(j)+\"]/div/a[2]\").get_attribute(\"href\"))\n",
    "    except:\n",
    "        break"
   ]
  },
  {
   "cell_type": "markdown",
   "metadata": {},
   "source": [
    "Z powodu wielu różnych opcji formatowania i zapisu informacji o zestawach, używamy regexa w celu ujednolicenia zapisu danych oraz podziału jednego paragrafu na osobne zmienne"
   ]
  },
  {
   "cell_type": "code",
   "execution_count": 25,
   "metadata": {},
   "outputs": [],
   "source": [
    "def parse_output_type_1(output_str):\n",
    "    match = re.search(r'Numer zestawu: (\\d+)', output_str)\n",
    "    id = int(match.group(1)) if match else None\n",
    "\n",
    "    match = re.search(r'Seria glowna: (.+)', output_str)\n",
    "    series = match.group(1) if match else None\n",
    "\n",
    "    match = re.search(r'Rok produkcji: (\\d+)', output_str)\n",
    "    year = int(match.group(1)) if match else None\n",
    "\n",
    "    match = re.search(r'Liczba elementów: (\\d+)', output_str)\n",
    "    elements = int(match.group(1)) if match else None\n",
    "\n",
    "    match = re.search(r'Liczba figurek: (\\d+)', output_str)\n",
    "    figures = int(match.group(1)) if match else None\n",
    "\n",
    "    match = re.search(r'instrukcja: (\\w+)', output_str)\n",
    "    manual = True if match and match.group(1).lower() == 'tak' else False\n",
    "\n",
    "    match = re.search(r'pudełko: (\\w+)', output_str)\n",
    "    box = True if match and match.group(1).lower() == 'tak' else False\n",
    "\n",
    "    return id, series, year, elements, figures, manual, box\n",
    "\n",
    "\n",
    "def parse_output_type_2(output_str):\n",
    "    match = re.search(r'Numer zestawu (\\d+)', output_str)\n",
    "    id = int(match.group(1)) if match else None\n",
    "\n",
    "    match = re.search(r'Seria główna (.+)', output_str)\n",
    "    series = match.group(1) if match else None\n",
    "\n",
    "    match = re.search(r'Rok (\\d+)', output_str)\n",
    "    year = int(match.group(1)) if match else None\n",
    "\n",
    "    match = re.search(r'Liczba elementów (\\d+)', output_str)\n",
    "    elements = int(match.group(1)) if match else None\n",
    "\n",
    "    match = re.search(r'Liczba minifigurek (\\d+)', output_str)\n",
    "    figures = int(match.group(1)) if match else None\n",
    "\n",
    "    match = re.search(r'Czy jest pudełko\\? (\\w+)', output_str)\n",
    "    box = True if match and match.group(1).lower() == 'tak' else False\n",
    "\n",
    "    match = re.search(r'Czy jest instrukcja\\? (\\w+)', output_str)\n",
    "    manual = True if match and match.group(1).lower() == 'tak' else False\n",
    "\n",
    "    return id, series, year, elements, figures, manual, box\n",
    "\n",
    "def parse_output(output_str):\n",
    "    if re.search(r'Numer zestawu:', output_str) and re.search(r'Nazwa zestawu:', output_str):\n",
    "        return parse_output_type_1(output_str)\n",
    "    \n",
    "    elif re.search(r'Numer zestawu', output_str) and re.search(r'Seria główna', output_str):\n",
    "        return parse_output_type_2(output_str)\n",
    "    else:\n",
    "        return None, None, None, None, None, None, None"
   ]
  },
  {
   "cell_type": "markdown",
   "metadata": {},
   "source": [
    "Selenium przechodzi po każdej zapisanej ofercie i scrapuje ich ceny oraz specyfikacje\n",
    "Na koniec wszystko pakowane jest w dataframe i eksportowane do excela"
   ]
  },
  {
   "cell_type": "code",
   "execution_count": 26,
   "metadata": {},
   "outputs": [],
   "source": [
    "products_info = [('price', 'id', 'series', 'year', 'element', 'figures', 'manual', 'box')]\n",
    "for product in products:\n",
    "    driver.get(product)\n",
    "    price = driver.find_element(By.XPATH, \"/html/body/div[2]/div[5]/div/div/div[2]/div[1]/div[2]/div/div/div[2]/div[2]/div[1]/div/div/em\").text\n",
    "    try:\n",
    "        specs = driver.find_element(By.XPATH, \"/html/body/div[2]/div[5]/div/div/div[2]/div[2]/div[2]/div[2]/table/tbody\").text\n",
    "    except:\n",
    "        specs = driver.find_element(By.XPATH, \"/html/body/div[2]/div[5]/div/div/div[2]/div[2]/div[1]/div[2]/div\").text\n",
    "    id, series, year, elements, figures, manual, box = parse_output(specs)\n",
    "    products_info.append(tuple((price, id, series, year, elements, figures, manual, box)))\n",
    "pd.DataFrame(products_info).to_excel('scraped_products.xlsx', header=False, index=False)"
   ]
  }
 ],
 "metadata": {
  "kernelspec": {
   "display_name": "Python 3",
   "language": "python",
   "name": "python3"
  },
  "language_info": {
   "codemirror_mode": {
    "name": "ipython",
    "version": 3
   },
   "file_extension": ".py",
   "mimetype": "text/x-python",
   "name": "python",
   "nbconvert_exporter": "python",
   "pygments_lexer": "ipython3",
   "version": "3.12.0"
  }
 },
 "nbformat": 4,
 "nbformat_minor": 2
}
